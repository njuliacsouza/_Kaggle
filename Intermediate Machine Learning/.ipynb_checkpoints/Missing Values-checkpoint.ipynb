{
 "cells": [
  {
   "cell_type": "markdown",
   "id": "fd2a1f73",
   "metadata": {},
   "source": [
    "# Intermediate Machine Learning - Missing Values"
   ]
  },
  {
   "cell_type": "code",
   "execution_count": 23,
   "id": "86fc5431",
   "metadata": {},
   "outputs": [],
   "source": [
    "import pandas as pd\n",
    "import numpy as np\n",
    "\n",
    "from sklearn.model_selection import train_test_split\n",
    "from sklearn.ensemble import RandomForestRegressor\n",
    "from sklearn.metrics import mean_absolute_error"
   ]
  },
  {
   "cell_type": "code",
   "execution_count": 10,
   "id": "3ab2f77f",
   "metadata": {},
   "outputs": [
    {
     "name": "stdout",
     "output_type": "stream",
     "text": [
      "(1460, 80) (1459, 79)\n",
      "1460\n"
     ]
    }
   ],
   "source": [
    "X = pd.read_csv('train.csv', index_col='Id')\n",
    "X_test = pd.read_csv('test.csv', index_col='Id')\n",
    "y = X.drop('SalePrice', axis=1)\n",
    "\n",
    "print(X.shape, X_test.shape)\n",
    "print(len(y))"
   ]
  },
  {
   "cell_type": "code",
   "execution_count": 35,
   "id": "42cfcb65",
   "metadata": {},
   "outputs": [
    {
     "data": {
      "text/plain": [
       "MSSubClass         0\n",
       "MSZoning           0\n",
       "LotFrontage      259\n",
       "LotArea            0\n",
       "Street             0\n",
       "                ... \n",
       "MoSold             0\n",
       "YrSold             0\n",
       "SaleType           0\n",
       "SaleCondition      0\n",
       "SalePrice          0\n",
       "Length: 80, dtype: int64"
      ]
     },
     "execution_count": 35,
     "metadata": {},
     "output_type": "execute_result"
    }
   ],
   "source": [
    "X.isna().sum()"
   ]
  },
  {
   "cell_type": "markdown",
   "id": "d4a6c7b2",
   "metadata": {},
   "source": [
    "## Three Approaches\n",
    "\n",
    "1. **Drop columns with Missing Values:** model loses access to a lot of information\n",
    "2. **Imputation:** fills in the missing valueswith some number (mean) - usually leads to more accurate models than dropping the column\n",
    "3. **Extension to Imputation:** not just replacing but adding a new column with saying that the data was missing"
   ]
  }
 ],
 "metadata": {
  "kernelspec": {
   "display_name": "Python 3",
   "language": "python",
   "name": "python3"
  },
  "language_info": {
   "codemirror_mode": {
    "name": "ipython",
    "version": 3
   },
   "file_extension": ".py",
   "mimetype": "text/x-python",
   "name": "python",
   "nbconvert_exporter": "python",
   "pygments_lexer": "ipython3",
   "version": "3.8.5"
  }
 },
 "nbformat": 4,
 "nbformat_minor": 5
}
