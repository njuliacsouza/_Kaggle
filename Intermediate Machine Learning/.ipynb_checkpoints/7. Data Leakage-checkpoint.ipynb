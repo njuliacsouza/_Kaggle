{
 "cells": [
  {
   "cell_type": "markdown",
   "id": "60d58a33",
   "metadata": {},
   "source": [
    "# Intermediate Machine Learning\n",
    "## Data Leakage\n",
    "\n",
    "**Data leakage** (or leakage) happens when your training data contains information about the target, but similar data will not be available when the model is used for prediction. This leads to high performance on the training set (and possibly even the validation data), but the model will perform poorly in production.\n",
    "\n",
    "There are two main types of leakage:\n",
    "- **Target leanage:** occurs when your prediction include data that will not be available at the time you make prediction (*chronological order*).To prevent this type of data leakage, any variable updated (or created) after the target value is realized should be excluded.\n",
    "- **Train-test contamination**: A different type of leak occurs when you aren't careful to distinguish training data from validation data."
   ]
  },
  {
   "cell_type": "code",
   "execution_count": null,
   "id": "345c1084",
   "metadata": {},
   "outputs": [],
   "source": [
    "import pandas as pd\n",
    "import numpy as np"
   ]
  },
  {
   "cell_type": "code",
   "execution_count": null,
   "id": "fdbd4bf1",
   "metadata": {},
   "outputs": [],
   "source": [
    "# Read the data\n",
    "data = pd.read_csv('../input/AER_credit_card_data.csv', \n",
    "                   true_values = ['yes'], false_values = ['no'])\n",
    "\n",
    "# Select target\n",
    "y = data.card\n",
    "\n",
    "# Select predictors\n",
    "X = data.drop(['card'], axis=1)\n",
    "\n",
    "print(\"Number of rows in the dataset:\", X.shape[0])\n",
    "X.head()"
   ]
  }
 ],
 "metadata": {
  "kernelspec": {
   "display_name": "Python 3",
   "language": "python",
   "name": "python3"
  },
  "language_info": {
   "codemirror_mode": {
    "name": "ipython",
    "version": 3
   },
   "file_extension": ".py",
   "mimetype": "text/x-python",
   "name": "python",
   "nbconvert_exporter": "python",
   "pygments_lexer": "ipython3",
   "version": "3.8.5"
  }
 },
 "nbformat": 4,
 "nbformat_minor": 5
}
