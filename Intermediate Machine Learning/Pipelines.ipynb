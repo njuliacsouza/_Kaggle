{
 "cells": [
  {
   "cell_type": "markdown",
   "id": "4470605c",
   "metadata": {},
   "source": [
    "# Intermediate Machine Learning\n",
    "## Pipelines\n",
    "\n",
    "- **Pipelines** are a simple way to keep your data preprocessing and modeling code organized. Specifically, a pipeline bundles preprocessing and modeling steps so you can use the whole bundle as if it were a single step.\n",
    "\n",
    "Benefits:\n",
    "- Cleaner Code\n",
    "- Fewer Bugs\n",
    "- Easier to Productionize\n",
    "- More options for model validation\n",
    "\n",
    "Tutorial: https://www.kaggle.com/code/alexisbcook/pipelines "
   ]
  }
 ],
 "metadata": {
  "kernelspec": {
   "display_name": "Python 3",
   "language": "python",
   "name": "python3"
  },
  "language_info": {
   "codemirror_mode": {
    "name": "ipython",
    "version": 3
   },
   "file_extension": ".py",
   "mimetype": "text/x-python",
   "name": "python",
   "nbconvert_exporter": "python",
   "pygments_lexer": "ipython3",
   "version": "3.8.5"
  }
 },
 "nbformat": 4,
 "nbformat_minor": 5
}
