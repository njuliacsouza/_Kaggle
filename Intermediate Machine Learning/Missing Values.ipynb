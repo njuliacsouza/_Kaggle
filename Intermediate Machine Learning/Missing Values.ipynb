{
 "cells": [
  {
   "cell_type": "markdown",
   "id": "6127bdec",
   "metadata": {},
   "source": [
    "# Intermediate Machine Learning - Missing Values"
   ]
  },
  {
   "cell_type": "code",
   "execution_count": 23,
   "id": "b19e0cf4",
   "metadata": {},
   "outputs": [],
   "source": [
    "import pandas as pd\n",
    "import numpy as np\n",
    "\n",
    "from sklearn.model_selection import train_test_split\n",
    "from sklearn.ensemble import RandomForestRegressor\n",
    "from sklearn.metrics import mean_absolute_error"
   ]
  },
  {
   "cell_type": "code",
   "execution_count": 38,
   "id": "2f8fac66",
   "metadata": {},
   "outputs": [
    {
     "name": "stdout",
     "output_type": "stream",
     "text": [
      "(13580, 21)\n"
     ]
    }
   ],
   "source": [
    "X = pd.read_csv('melbourne_housing_snapshot/melb_data.csv')\n",
    "#y = X.drop('SalePrice', axis=1)\n",
    "\n",
    "print(X.shape) #, y.shape)"
   ]
  },
  {
   "cell_type": "code",
   "execution_count": 39,
   "id": "d88887a3",
   "metadata": {},
   "outputs": [
    {
     "data": {
      "text/plain": [
       "Suburb              0\n",
       "Address             0\n",
       "Rooms               0\n",
       "Type                0\n",
       "Price               0\n",
       "Method              0\n",
       "SellerG             0\n",
       "Date                0\n",
       "Distance            0\n",
       "Postcode            0\n",
       "Bedroom2            0\n",
       "Bathroom            0\n",
       "Car                62\n",
       "Landsize            0\n",
       "BuildingArea     6450\n",
       "YearBuilt        5375\n",
       "CouncilArea      1369\n",
       "Lattitude           0\n",
       "Longtitude          0\n",
       "Regionname          0\n",
       "Propertycount       0\n",
       "dtype: int64"
      ]
     },
     "execution_count": 39,
     "metadata": {},
     "output_type": "execute_result"
    }
   ],
   "source": [
    "X.isna().sum()"
   ]
  },
  {
   "cell_type": "markdown",
   "id": "85f4a27e",
   "metadata": {},
   "source": [
    "## Three Approaches\n",
    "\n",
    "1. **Drop columns with Missing Values:** model loses access to a lot of information\n",
    "2. **Imputation:** fills in the missing valueswith some number (mean) - usually leads to more accurate models than dropping the column\n",
    "3. **Extension to Imputation:** not just replacing but adding a new column with saying that the data was missing"
   ]
  }
 ],
 "metadata": {
  "kernelspec": {
   "display_name": "Python 3",
   "language": "python",
   "name": "python3"
  },
  "language_info": {
   "codemirror_mode": {
    "name": "ipython",
    "version": 3
   },
   "file_extension": ".py",
   "mimetype": "text/x-python",
   "name": "python",
   "nbconvert_exporter": "python",
   "pygments_lexer": "ipython3",
   "version": "3.8.5"
  }
 },
 "nbformat": 4,
 "nbformat_minor": 5
}
